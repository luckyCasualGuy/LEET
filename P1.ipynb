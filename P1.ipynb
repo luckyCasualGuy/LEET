{
 "cells": [
  {
   "cell_type": "markdown",
   "id": "c8a5571d",
   "metadata": {},
   "source": [
    "# Subrectangle queries"
   ]
  },
  {
   "cell_type": "code",
   "execution_count": 1,
   "id": "d559f60f",
   "metadata": {},
   "outputs": [],
   "source": [
    "from typing import List"
   ]
  },
  {
   "cell_type": "markdown",
   "id": "3e1dd146",
   "metadata": {},
   "source": [
    "### Problem 1\n",
    "\n",
    "Implement the class SubrectangleQueries which receives a rows x cols rectangle as a matrix of integers in the constructor and supports two methods:\n",
    "\n",
    "1. updateSubrectangle(int row1, int col1, int row2, int col2, int newValue)  \n",
    "Updates all values with newValue in the subrectangle whose upper left coordinate is (row1,col1) and bottom right coordinate is (row2,col2).\n",
    "\n",
    "\n",
    "2. getValue(int row, int col)  \n",
    "Returns the current value of the coordinate (row,col) from the rectangle.\n",
    " \n",
    "\n",
    "Example 1:\n",
    "```\n",
    "Input\n",
    "[\"SubrectangleQueries\",\"getValue\",\"updateSubrectangle\",\"getValue\",\"getValue\",\"updateSubrectangle\",\"getValue\",\"getValue\"]\n",
    "[[[[1,2,1],[4,3,4],[3,2,1],[1,1,1]]],[0,2],[0,0,3,2,5],[0,2],[3,1],[3,0,3,2,10],[3,1],[0,2]]\n",
    "Output\n",
    "[null,1,null,5,5,null,10,5]\n",
    "Explanation\n",
    "SubrectangleQueries subrectangleQueries = new SubrectangleQueries([[1,2,1],[4,3,4],[3,2,1],[1,1,1]]);  \n",
    "// The initial rectangle (4x3) looks like:\n",
    "// 1 2 1\n",
    "// 4 3 4\n",
    "// 3 2 1\n",
    "// 1 1 1\n",
    "subrectangleQueries.getValue(0, 2); // return 1\n",
    "subrectangleQueries.updateSubrectangle(0, 0, 3, 2, 5);\n",
    "// After this update the rectangle looks like:\n",
    "// 5 5 5\n",
    "// 5 5 5\n",
    "// 5 5 5\n",
    "// 5 5 5 \n",
    "subrectangleQueries.getValue(0, 2); // return 5\n",
    "subrectangleQueries.getValue(3, 1); // return 5\n",
    "subrectangleQueries.updateSubrectangle(3, 0, 3, 2, 10);\n",
    "// After this update the rectangle looks like:\n",
    "// 5   5   5\n",
    "// 5   5   5\n",
    "// 5   5   5\n",
    "// 10  10  10 \n",
    "subrectangleQueries.getValue(3, 1); // return 10\n",
    "subrectangleQueries.getValue(0, 2); // return 5\n",
    "```\n",
    "Example 2:\n",
    "```\n",
    "Input\n",
    "[\"SubrectangleQueries\",\"getValue\",\"updateSubrectangle\",\"getValue\",\"getValue\",\"updateSubrectangle\",\"getValue\"]\n",
    "[[[[1,1,1],[2,2,2],[3,3,3]]],[0,0],[0,0,2,2,100],[0,0],[2,2],[1,1,2,2,20],[2,2]]\n",
    "Output\n",
    "[null,1,null,100,100,null,20]\n",
    "Explanation\n",
    "SubrectangleQueries subrectangleQueries = new SubrectangleQueries([[1,1,1],[2,2,2],[3,3,3]]);\n",
    "subrectangleQueries.getValue(0, 0); // return 1\n",
    "subrectangleQueries.updateSubrectangle(0, 0, 2, 2, 100);\n",
    "subrectangleQueries.getValue(0, 0); // return 100\n",
    "subrectangleQueries.getValue(2, 2); // return 100\n",
    "subrectangleQueries.updateSubrectangle(1, 1, 2, 2, 20);\n",
    "subrectangleQueries.getValue(2, 2); // return 20\n",
    "```\n",
    "\n",
    "Constraints:\n",
    "```\n",
    "There will be at most 500 operations considering both methods: updateSubrectangle and getValue.\n",
    "1 <= rows, cols <= 100\n",
    "rows == rectangle.length\n",
    "cols == rectangle[i].length\n",
    "0 <= row1 <= row2 < rows\n",
    "0 <= col1 <= col2 < cols\n",
    "1 <= newValue, rectangle[i][j] <= 10^9\n",
    "0 <= row < rows\n",
    "0 <= col < cols\n",
    "```\n",
    "\n",
    "![image text](./IMG/s1.png \"s1\")"
   ]
  },
  {
   "cell_type": "code",
   "execution_count": 2,
   "id": "7208d1c3",
   "metadata": {},
   "outputs": [],
   "source": [
    "class SubrectangleQueries:\n",
    "\n",
    "    def __init__(self, rectangle: List[List[int]]):\n",
    "        pass\n",
    "\n",
    "    def updateSubrectangle(self, row1: int, col1: int, row2: int, col2: int, newValue: int) -> None:\n",
    "        pass\n",
    "        \n",
    "\n",
    "    def getValue(self, row: int, col: int) -> int:\n",
    "        pass\n",
    "\n",
    "# Your SubrectangleQueries object will be instantiated and called as such:\n",
    "# obj = SubrectangleQueries(rectangle)\n",
    "# obj.updateSubrectangle(row1,col1,row2,col2,newValue)\n",
    "# param_2 = obj.getValue(row,col)"
   ]
  },
  {
   "cell_type": "code",
   "execution_count": 3,
   "id": "bc302ad5",
   "metadata": {},
   "outputs": [],
   "source": [
    "# solution\n",
    "\n",
    "from numpy import array\n",
    "\n",
    "class SubrectangleQueries:\n",
    "\n",
    "    def __init__(self, rectangle: List[List[int]]):\n",
    "        self.rectangle = array(rectangle)\n",
    "\n",
    "    def updateSubrectangle(self, row1: int, col1: int, row2: int, col2: int, newValue: int) -> None:\n",
    "        self.rectangle[row1: row2 + 1, col1: col2 + 1] = newValue\n",
    "        \n",
    "\n",
    "    def getValue(self, row: int, col: int) -> int:\n",
    "        return self.rectangle[row][col]"
   ]
  },
  {
   "cell_type": "code",
   "execution_count": 4,
   "id": "75d87900",
   "metadata": {},
   "outputs": [
    {
     "output_type": "execute_result",
     "data": {
      "text/plain": [
       "array([[1, 2, 1],\n",
       "       [4, 3, 4],\n",
       "       [3, 2, 1],\n",
       "       [1, 1, 1]])"
      ]
     },
     "metadata": {},
     "execution_count": 4
    }
   ],
   "source": [
    "rectangle = [[1, 2, 1], [4, 3, 4], [3, 2, 1], [1, 1, 1]]\n",
    "\n",
    "sq = SubrectangleQueries(rectangle)\n",
    "sq.rectangle"
   ]
  },
  {
   "cell_type": "code",
   "execution_count": 5,
   "id": "6dcf8ea3",
   "metadata": {},
   "outputs": [
    {
     "output_type": "execute_result",
     "data": {
      "text/plain": [
       "array([[5, 5, 1],\n",
       "       [5, 5, 4],\n",
       "       [5, 5, 1],\n",
       "       [1, 1, 1]])"
      ]
     },
     "metadata": {},
     "execution_count": 5
    }
   ],
   "source": [
    "sq.updateSubrectangle(0, 0, 2, 1, 5)\n",
    "sq.rectangle"
   ]
  },
  {
   "cell_type": "code",
   "execution_count": 6,
   "id": "8e8c4c89",
   "metadata": {},
   "outputs": [
    {
     "output_type": "execute_result",
     "data": {
      "text/plain": [
       "1"
      ]
     },
     "metadata": {},
     "execution_count": 6
    }
   ],
   "source": [
    "sq.getValue(2, 2)"
   ]
  },
  {
   "cell_type": "markdown",
   "id": "0a9248c8",
   "metadata": {},
   "source": [
    "#### Best Solution\n",
    "\n",
    "- We Initialize two arrays\n",
    "    - rectangle (given)\n",
    "    - log (In order to retain the matrix update changes)\n",
    "- on updating array\n",
    "    - we dont actually update the matrix but append the updates inside log (row1, col1, row2, col2, newValue)\n",
    "    - This will keep a track of all the update history\n",
    "- on getting value\n",
    "    - We check the latest updates in log\n",
    "    - If value to get is in between row1, row2 and col1, col2 that means point is inside that sub matrix\n",
    "    - If thats the case we will return the newValue from that particular log\n",
    "    - We do this for all entries in log (latest log first)\n",
    "    - If that is not the case we simply select that particular value using list indexing"
   ]
  },
  {
   "cell_type": "markdown",
   "id": "81524154",
   "metadata": {},
   "source": [
    "### Basically\n",
    "\n",
    "![image text](./IMG/S2.png \"s2\")\n",
    "\n",
    "![image text](./IMG/S3.png \"s3\")\n",
    "\n",
    "![image text](./IMG/SS4.png \"s4\")\n",
    "\n",
    "![image text](./IMG/S5.png \"s5\")\n",
    "\n",
    "![image text](./IMG/S6.png \"s6\")"
   ]
  }
 ],
 "metadata": {
  "kernelspec": {
   "name": "python389jvsc74a57bd0396f0b9336891690bae3d966a5734236bd0d40df0ea8fe0bbe1a0d80d2889c10",
   "display_name": "Python 3.8.9 64-bit"
  },
  "language_info": {
   "codemirror_mode": {
    "name": "ipython",
    "version": 3
   },
   "file_extension": ".py",
   "mimetype": "text/x-python",
   "name": "python",
   "nbconvert_exporter": "python",
   "pygments_lexer": "ipython3",
   "version": "3.8.9"
  }
 },
 "nbformat": 4,
 "nbformat_minor": 5
}