{
 "cells": [
  {
   "cell_type": "markdown",
   "id": "e2513664",
   "metadata": {},
   "source": [
    "There are n friends that are playing a game. The friends are sitting in a circle and are numbered from 1 to n in clockwise order. More formally, moving clockwise from the ith friend brings you to the (i+1)th friend for 1 <= i < n, and moving clockwise from the nth friend brings you to the 1st friend.\n",
    "\n",
    "The rules of the game are as follows:\n",
    "\n",
    "Start at the 1st friend.\n",
    "Count the next k friends in the clockwise direction including the friend you started at. The counting wraps around the circle and may count some friends more than once.\n",
    "The last friend you counted leaves the circle and loses the game.\n",
    "If there is still more than one friend in the circle, go back to step 2 starting from the friend immediately clockwise of the friend who just lost and repeat.\n",
    "Else, the last friend in the circle wins the game.\n",
    "Given the number of friends, n, and an integer k, return the winner of the game.\n",
    "\n",
    " \n",
    "\n",
    "Example 1:\n",
    "![](./IMG/p101.png \"p1o1\")\n",
    "```\n",
    "Input: n = 5, k = 2\n",
    "Output: 3\n",
    "Explanation: Here are the steps of the game:\n",
    "1) Start at friend 1.\n",
    "2) Count 2 friends clockwise, which are friends 1 and 2.\n",
    "3) Friend 2 leaves the circle. Next start is friend 3.\n",
    "4) Count 2 friends clockwise, which are friends 3 and 4.\n",
    "5) Friend 4 leaves the circle. Next start is friend 5.\n",
    "6) Count 2 friends clockwise, which are friends 5 and 1.\n",
    "7) Friend 1 leaves the circle. Next start is friend 3.\n",
    "8) Count 2 friends clockwise, which are friends 3 and 5.\n",
    "9) Friend 5 leaves the circle. Only friend 3 is left, so they are the winner.\n",
    "```\n",
    "Example 2:\n",
    "```\n",
    "Input: n = 6, k = 5\n",
    "Output: 1\n",
    "Explanation: The friends leave in this order: 5, 4, 6, 2, 3. The winner is friend 1.\n",
    "```\n",
    "\n",
    "Constraints:\n",
    "```\n",
    "1 <= k <= n <= 500\n",
    "```"
   ]
  },
  {
   "cell_type": "code",
   "execution_count": 1,
   "id": "2dc5072b",
   "metadata": {},
   "outputs": [
    {
     "name": "stdout",
     "output_type": "stream",
     "text": [
      "n: 5, k: 2, l: [1, 2, 3, 4, 5]\n",
      "steps: 8, steps_taken: 0\n",
      "steps_taken: 1, index: 0, l[index]: 1, len(l): 5\n",
      "steps_taken: 2, index: 1, l[index]: 2, len(l): 5\n",
      "index 1 deleted, len(l): 4, current index: 1, l: [1, 3, 4, 5]\n",
      "steps_taken: 3, index: 1, l[index]: 3, len(l): 4\n",
      "steps_taken: 4, index: 2, l[index]: 4, len(l): 4\n",
      "index 2 deleted, len(l): 3, current index: 2, l: [1, 3, 5]\n",
      "steps_taken: 5, index: 2, l[index]: 5, len(l): 3\n",
      "steps_taken: 6, index: 0, l[index]: 1, len(l): 3\n",
      "index 0 deleted, len(l): 2, current index: 0, l: [3, 5]\n",
      "steps_taken: 7, index: 0, l[index]: 3, len(l): 2\n",
      "steps_taken: 8, index: 1, l[index]: 5, len(l): 2\n",
      "index 1 deleted, len(l): 1, current index: 1, l: [3]\n"
     ]
    },
    {
     "data": {
      "text/plain": [
       "3"
      ]
     },
     "execution_count": 1,
     "metadata": {},
     "output_type": "execute_result"
    }
   ],
   "source": [
    "# Noobs Solution! this is so embarrasing\n",
    "\n",
    "def findTheWinner(n: int, k: int) -> int:    \n",
    "        l = list(range(1, n+1))\n",
    "        print(f\"n: {n}, k: {k}, l: {l}\")\n",
    "        \n",
    "        steps = k * (n - 1)\n",
    "        steps_taken = 0\n",
    "        \n",
    "        print(f\"steps: {steps}, steps_taken: {steps_taken}\")\n",
    "        \n",
    "        index = 0\n",
    "        delete_flag = False\n",
    "        while steps_taken < steps:\n",
    "            steps_taken += 1\n",
    "            \n",
    "            print(f\"steps_taken: {steps_taken}, index: {index}, l[index]: {l[index]}, len(l): {n}\")\n",
    "            \n",
    "            if steps_taken % k == 0:\n",
    "                del l[index]\n",
    "                n -= 1\n",
    "                print(f\"index {index} deleted, len(l): {n}, current index: {index}, l: {l}\")\n",
    "            else:\n",
    "                index = (index + 1) % n\n",
    "            \n",
    "            \n",
    "        return l[0]\n",
    "    \n",
    "findTheWinner(5, 2)"
   ]
  },
  {
   "cell_type": "code",
   "execution_count": 2,
   "id": "94d62ecb",
   "metadata": {},
   "outputs": [
    {
     "data": {
      "text/plain": [
       "489"
      ]
     },
     "execution_count": 2,
     "metadata": {},
     "output_type": "execute_result"
    }
   ],
   "source": [
    "# PRO solution!\n",
    "def findTheWinner( n: int, k: int) -> int:\n",
    "        res = 0\n",
    "        for i in range(1, n + 1):\n",
    "            res = (res + k) % i\n",
    "        return res + 1\n",
    "    \n",
    "findTheWinner(500, 2)"
   ]
  },
  {
   "cell_type": "markdown",
   "id": "a6fae88e",
   "metadata": {},
   "source": [
    "## I cannot figure out the reason :(\n",
    "## I think I will remember this problem as it is if anyone has any ideas do let me know"
   ]
  },
  {
   "cell_type": "code",
   "execution_count": 3,
   "id": "2f65d1d3",
   "metadata": {},
   "outputs": [
    {
     "data": {
      "text/plain": [
       "489"
      ]
     },
     "execution_count": 3,
     "metadata": {},
     "output_type": "execute_result"
    }
   ],
   "source": [
    "# what i did mre efficiently\n",
    "def findTheWinner(n: int, k: int) -> int:\n",
    "        arr = []\n",
    "        for x in range(1,n+1):\n",
    "            arr.append(x)\n",
    "        i = 0\n",
    "        while len(arr)!=1:\n",
    "            delete = (i+k-1)%len(arr)\n",
    "            \n",
    "            arr.pop(delete)\n",
    "            \n",
    "            i = delete \n",
    "            \n",
    "        return arr[0]\n",
    "\n",
    "findTheWinner(500, 2)"
   ]
  },
  {
   "cell_type": "code",
   "execution_count": 4,
   "id": "5340e62e",
   "metadata": {},
   "outputs": [
    {
     "data": {
      "text/plain": [
       "489"
      ]
     },
     "execution_count": 4,
     "metadata": {},
     "output_type": "execute_result"
    }
   ],
   "source": [
    "# above done more efficiently\n",
    "def findTheWinner( n: int, k: int) -> int:        \n",
    "        start, friends = 0, [i+1 for i in range(n)]        \n",
    "        while len(friends) > 1:\n",
    "            loser_index = (start + k - 1) % len(friends)\n",
    "            friends.pop(loser_index)\n",
    "            start = loser_index\n",
    "                \n",
    "        return friends[0]\n",
    "    \n",
    "findTheWinner(500, 2)"
   ]
  }
 ],
 "metadata": {
  "kernelspec": {
   "display_name": "Python 3",
   "language": "python",
   "name": "python3"
  },
  "language_info": {
   "codemirror_mode": {
    "name": "ipython",
    "version": 3
   },
   "file_extension": ".py",
   "mimetype": "text/x-python",
   "name": "python",
   "nbconvert_exporter": "python",
   "pygments_lexer": "ipython3",
   "version": "3.8.9"
  }
 },
 "nbformat": 4,
 "nbformat_minor": 5
}
