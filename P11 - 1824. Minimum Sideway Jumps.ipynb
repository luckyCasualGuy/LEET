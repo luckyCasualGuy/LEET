{
 "cells": [
  {
   "cell_type": "markdown",
   "id": "70e75e8f",
   "metadata": {},
   "source": [
    "There is a 3 lane road of length n that consists of n + 1 points labeled from 0 to n. A frog starts at point 0 in the second lane and wants to jump to point n. However, there could be obstacles along the way.\n",
    "\n",
    "You are given an array obstacles of length n + 1 where each obstacles[i] (ranging from 0 to 3) describes an obstacle on the lane obstacles[i] at point i. If obstacles[i] == 0, there are no obstacles at point i. There will be at most one obstacle in the 3 lanes at each point.\n",
    "\n",
    "For example, if obstacles[2] == 1, then there is an obstacle on lane 1 at point 2.\n",
    "The frog can only travel from point i to point i + 1 on the same lane if there is not an obstacle on the lane at point i + 1. To avoid obstacles, the frog can also perform a side jump to jump to another lane (even if they are not adjacent) at the same point if there is no obstacle on the new lane.\n",
    "\n",
    "For example, the frog can jump from lane 3 at point 3 to lane 1 at point 3.\n",
    "Return the minimum number of side jumps the frog needs to reach any lane at point n starting from lane 2 at point 0.\n",
    "\n",
    "Note: There will be no obstacles on points 0 and n.\n",
    "\n",
    " \n",
    "\n",
    "Example 1:\n",
    "![](./IMG/p111.png 'p111')\n",
    "```\n",
    "Input: obstacles = [0,1,2,3,0]\n",
    "Output: 2 \n",
    "Explanation: The optimal solution is shown by the arrows above. There are 2 side jumps (red arrows).\n",
    "Note that the frog can jump over obstacles only when making side jumps (as shown at point 2).\n",
    "```\n",
    "\n",
    "Example 2:\n",
    "![](./IMG/p112.png 'p112')\n",
    "```\n",
    "Input: obstacles = [0,1,1,3,3,0]\n",
    "Output: 0\n",
    "Explanation: There are no obstacles on lane 2. No side jumps are required.\n",
    "```\n",
    "\n",
    "Example 3:\n",
    "![](./IMG/p113.png 'p113')\n",
    "```\n",
    "Input: obstacles = [0,2,1,0,3,0]\n",
    "Output: 2\n",
    "Explanation: The optimal solution is shown by the arrows above. There are 2 side jumps.\n",
    "```\n",
    "\n",
    "Constraints:\n",
    "```\n",
    "obstacles.length == n + 1\n",
    "1 <= n <= 5 * 105\n",
    "0 <= obstacles[i] <= 3\n",
    "obstacles[0] == obstacles[n] == 0\n",
    "```"
   ]
  },
  {
   "cell_type": "markdown",
   "id": "cd175b44",
   "metadata": {},
   "source": [
    "#### Logging class is not required for the solution of the problem I made it for logging"
   ]
  },
  {
   "cell_type": "code",
   "execution_count": 1,
   "id": "8090edd8",
   "metadata": {},
   "outputs": [],
   "source": [
    "# classed used by me for logging, will make a module out od it in futute\n",
    "class Logging():\n",
    "    DEBUG = False\n",
    "    INFO = False\n",
    "    def log(self, message): \n",
    "        if self.DEBUG: print(message)\n",
    "            \n",
    "    def info(self, message):\n",
    "        if self.INFO: print(message)\n",
    "        \n",
    "logger = Logging()"
   ]
  },
  {
   "cell_type": "code",
   "execution_count": 2,
   "id": "6d28cc92",
   "metadata": {},
   "outputs": [],
   "source": [
    "# setting logging levels\n",
    "logger.DEBUG = True\n",
    "logger.INFO = True"
   ]
  },
  {
   "cell_type": "markdown",
   "id": "985a3007",
   "metadata": {},
   "source": [
    "**This is my solution it is more than 94% of other submissions thats why i consider it good will explore other solutions too**"
   ]
  },
  {
   "cell_type": "code",
   "execution_count": 6,
   "id": "3261388d",
   "metadata": {},
   "outputs": [
    {
     "name": "stdout",
     "output_type": "stream",
     "text": [
      "2 False 0\n",
      "0 0 1\n",
      "need to change: False\n",
      "2 False 0\n",
      "1 1 2\n",
      "need to change: True\n",
      "actually change: True\n",
      "3 False 1\n",
      "2 2 3\n",
      "need to change: True\n",
      "actually change: True\n",
      "1 False 2\n",
      "3 3 0\n",
      "need to change: False\n"
     ]
    },
    {
     "data": {
      "text/plain": [
       "2"
      ]
     },
     "execution_count": 6,
     "metadata": {},
     "output_type": "execute_result"
    }
   ],
   "source": [
    "from typing import List\n",
    "class Solution:\n",
    "    def minSideJumps(self, obstacles: List[int]) -> int:\n",
    "        current_lane = 2\n",
    "        lane_change_pending = False\n",
    "        side_steps = 0\n",
    "        for i, obstacle in enumerate(obstacles[:-1]):\n",
    "            \n",
    "            print(current_lane, lane_change_pending, side_steps)\n",
    "\n",
    "            obstacle_ahed = obstacles[i+1]\n",
    "            \n",
    "            print(i, obstacle, obstacle_ahed)\n",
    "\n",
    "            if (obstacle_ahed == current_lane and not lane_change_pending) or (obstacle_ahed and lane_change_pending and obstacle_ahed != current_lane):\n",
    "                print('need to change:', True)\n",
    "                if (obstacle and not lane_change_pending) or (lane_change_pending and obstacle_ahed):\n",
    "                    print('actually change:', True)\n",
    "                    current_lane = list({1, 2, 3} - {current_lane, obstacle if not lane_change_pending else obstacle_ahed})[0]\n",
    "                    lane_change_pending = False\n",
    "                    side_steps += 1\n",
    "\n",
    "                else:\n",
    "                    print('actually change:', False)\n",
    "                    lane_change_pending = True\n",
    "            \n",
    "            # ---\n",
    "            else: print('need to change:', False)\n",
    "            \n",
    "                    \n",
    "        if lane_change_pending: side_steps += 1\n",
    "\n",
    "\n",
    "        return side_steps\n",
    "    \n",
    "obstacles = [0,1,2,3,0]\n",
    "Solution().minSideJumps(obstacles)"
   ]
  },
  {
   "cell_type": "markdown",
   "id": "6b92c3b1",
   "metadata": {},
   "source": [
    "### Logic\n",
    "\n",
    "![](./IMG/p114.png 'p114')\n",
    "\n",
    "### Visualization\n",
    "\n",
    "![](./IMG/p115.png 'p115')"
   ]
  }
 ],
 "metadata": {
  "kernelspec": {
   "display_name": "Python 3",
   "language": "python",
   "name": "python3"
  },
  "language_info": {
   "codemirror_mode": {
    "name": "ipython",
    "version": 3
   },
   "file_extension": ".py",
   "mimetype": "text/x-python",
   "name": "python",
   "nbconvert_exporter": "python",
   "pygments_lexer": "ipython3",
   "version": "3.8.9"
  }
 },
 "nbformat": 4,
 "nbformat_minor": 5
}