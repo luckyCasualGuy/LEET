{
 "cells": [
  {
   "cell_type": "markdown",
   "id": "00e9ec62",
   "metadata": {},
   "source": [
    "A decimal number is called deci-binary if each of its digits is either 0 or 1 without any leading zeros. For example, 101 and 1100 are deci-binary, while 112 and 3001 are not.\n",
    "\n",
    "Given a string n that represents a positive decimal integer, return the minimum number of positive deci-binary numbers needed so that they sum up to n.\n",
    "\n",
    " Example 1:\n",
    "```\n",
    "Input: n = \"32\"\n",
    "Output: 3\n",
    "Explanation: 10 + 11 + 11 = 32\n",
    "```\n",
    "Example 2:\n",
    "```\n",
    "Input: n = \"82734\"\n",
    "Output: 8\n",
    "```\n",
    "Example 3:\n",
    "```\n",
    "Input: n = \"27346209830709182346\"\n",
    "Output: 9\n",
    " ```\n",
    "\n",
    "Constraints:\n",
    "```\n",
    "1 <= n.length <= 105\n",
    "n consists of only digits.\n",
    "n does not contain any leading zeros and represents a positive integer.\n",
    "```"
   ]
  },
  {
   "cell_type": "code",
   "execution_count": 1,
   "id": "edf037dc",
   "metadata": {},
   "outputs": [],
   "source": [
    "class Solution:\n",
    "    def minPartitions(self, n: str) -> int: pass"
   ]
  },
  {
   "cell_type": "markdown",
   "id": "9d8c79f5",
   "metadata": {},
   "source": [
    "### Best Solution\n",
    "\n",
    "Method to calculate the answers:\n",
    "\n",
    "![image text](./IMG/p31.png \"p31\")\n",
    "\n",
    "#### Pattern \n",
    "no matter what number you take if you look closely the pattern suggests that the number required is always the the maximum digit present inside the number. That's it, that's black magic !"
   ]
  },
  {
   "cell_type": "code",
   "execution_count": 2,
   "id": "003c8e56",
   "metadata": {},
   "outputs": [],
   "source": [
    "class Solution:\n",
    "    def minPartitions(self, n: str) -> int:\n",
    "        return int(max(n))"
   ]
  }
 ],
 "metadata": {
  "kernelspec": {
   "display_name": "Python 3",
   "language": "python",
   "name": "python3"
  },
  "language_info": {
   "codemirror_mode": {
    "name": "ipython",
    "version": 3
   },
   "file_extension": ".py",
   "mimetype": "text/x-python",
   "name": "python",
   "nbconvert_exporter": "python",
   "pygments_lexer": "ipython3",
   "version": "3.8.9"
  }
 },
 "nbformat": 4,
 "nbformat_minor": 5
}
