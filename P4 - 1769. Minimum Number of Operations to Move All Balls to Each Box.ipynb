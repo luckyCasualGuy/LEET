{
 "cells": [
  {
   "cell_type": "markdown",
   "id": "9b274958",
   "metadata": {},
   "source": [
    "You have n boxes. You are given a binary string boxes of length n, where boxes[i] is '0' if the ith box is empty, and '1' if it contains one ball.\n",
    "\n",
    "In one operation, you can move one ball from a box to an adjacent box. Box i is adjacent to box j if abs(i - j) == 1. Note that after doing so, there may be more than one ball in some boxes.\n",
    "\n",
    "Return an array answer of size n, where answer[i] is the minimum number of operations needed to move all the balls to the ith box.\n",
    "\n",
    "Each answer[i] is calculated considering the initial state of the boxes.\n",
    "\n",
    " \n",
    "\n",
    "Example 1:\n",
    "```\n",
    "Input: boxes = \"110\"\n",
    "Output: [1,1,3]\n",
    "Explanation: The answer for each box is as follows:\n",
    "1) First box: you will have to move one ball from the second box to the first box in one operation.\n",
    "2) Second box: you will have to move one ball from the first box to the second box in one operation.\n",
    "3) Third box: you will have to move one ball from the first box to the third box in two operations, and move one ball from the second box to the third box in one operation.\n",
    "```\n",
    "Example 2:\n",
    "```\n",
    "Input: boxes = \"001011\"\n",
    "Output: [11,8,5,4,3,4]\n",
    "```\n",
    "\n",
    "Constraints:\n",
    "```\n",
    "n == boxes.length\n",
    "1 <= n <= 2000\n",
    "boxes[i] is either '0' or '1'.\n",
    "```"
   ]
  },
  {
   "cell_type": "markdown",
   "id": "a3de3879",
   "metadata": {},
   "source": [
    "![image text](./IMG/p41.png \"p41\")"
   ]
  },
  {
   "cell_type": "code",
   "execution_count": 1,
   "id": "3291990e",
   "metadata": {},
   "outputs": [],
   "source": [
    "from typing import List"
   ]
  },
  {
   "cell_type": "code",
   "execution_count": 2,
   "id": "880196d4",
   "metadata": {},
   "outputs": [],
   "source": [
    "# simple approaches !\n",
    "def minOperations(boxes: str) -> List[int]:\n",
    "    steps = []\n",
    "    for i in range(len(boxes)):\n",
    "        steps_required = 0\n",
    "        for j in range(len(boxes)):\n",
    "            if i != j and boxes[j]!='0': steps_required += abs(i - j)\n",
    "                \n",
    "        steps.append(steps_required)\n",
    "\n",
    "            \n",
    "    return steps"
   ]
  },
  {
   "cell_type": "code",
   "execution_count": 3,
   "id": "1a472c57",
   "metadata": {},
   "outputs": [],
   "source": [
    "# one liner\n",
    "\n",
    "def minOperations(boxes: str) -> List[int]:\n",
    "    return [sum(abs(i-j) for j in range(len(boxes)) if boxes[j]!='0' and j!=i) for i, val in enumerate(boxes)]"
   ]
  },
  {
   "cell_type": "code",
   "execution_count": 4,
   "id": "1ee03bf2",
   "metadata": {},
   "outputs": [
    {
     "data": {
      "text/plain": [
       "[11, 8, 5, 4, 3, 4]"
      ]
     },
     "execution_count": 4,
     "metadata": {},
     "output_type": "execute_result"
    }
   ],
   "source": [
    "# testing\n",
    "\n",
    "boxes = \"001011\"\n",
    "minOperations(boxes)"
   ]
  },
  {
   "cell_type": "markdown",
   "id": "41f83850",
   "metadata": {},
   "source": [
    "### Best Solution\n",
    "\n",
    "### Algorithm Explaination\n",
    "\n",
    "![image text](./IMG/p42.png \"p42\")\n",
    "\n",
    "### Visualization\n",
    "- Imagine this algorithm as a sweep that goes left to right firt collecting everyting and counting actions of total entities it collected.\n",
    "- Than the sweep goes from right to left again doing the same.\n",
    "- Finaly we add up the actions made at same position during left and right sweeps and calculate total impact of all the entities on that particular box.\n",
    "\n",
    "### Left Sweep\n",
    "\n",
    "![image text](./IMG/p43.png \"p43\")\n",
    "\n",
    "### Right Sweep\n",
    "\n",
    "![image text](./IMG/p44.png \"p44\")"
   ]
  },
  {
   "cell_type": "code",
   "execution_count": 5,
   "id": "088108ec",
   "metadata": {},
   "outputs": [],
   "source": [
    "# Algorithm shortest implementation\n",
    "def minOperations(boxes: str) -> List[int]:\n",
    "        left_count, right_count, left_cost, right_cost = 0, 0, 0, 0\n",
    "        n = len(boxes)\n",
    "        ans = [0] * n\n",
    "        for i in range(1, n):\n",
    "            if boxes[i-1] == '1': left_count += 1\n",
    "            left_cost += left_count\n",
    "            ans[i] = left_cost\n",
    "        for i in range(n-2,-1, -1):\n",
    "            if boxes[i+1] == '1': right_count += 1\n",
    "            right_cost += right_count\n",
    "            ans[i] += right_cost\n",
    "        return ans"
   ]
  },
  {
   "cell_type": "code",
   "execution_count": 6,
   "id": "d77f5000",
   "metadata": {},
   "outputs": [
    {
     "data": {
      "text/plain": [
       "[11, 8, 5, 4, 3, 4]"
      ]
     },
     "execution_count": 6,
     "metadata": {},
     "output_type": "execute_result"
    }
   ],
   "source": [
    "minOperations(\"001011\")"
   ]
  }
 ],
 "metadata": {
  "kernelspec": {
   "display_name": "Python 3",
   "language": "python",
   "name": "python3"
  },
  "language_info": {
   "codemirror_mode": {
    "name": "ipython",
    "version": 3
   },
   "file_extension": ".py",
   "mimetype": "text/x-python",
   "name": "python",
   "nbconvert_exporter": "python",
   "pygments_lexer": "ipython3",
   "version": "3.8.9"
  }
 },
 "nbformat": 4,
 "nbformat_minor": 5
}
