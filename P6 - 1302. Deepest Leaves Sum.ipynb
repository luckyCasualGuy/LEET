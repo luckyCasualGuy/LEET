{
 "cells": [
  {
   "cell_type": "markdown",
   "id": "434bb2e7",
   "metadata": {},
   "source": [
    "Given the root of a binary tree, return the sum of values of its deepest leaves.\n",
    " \n",
    "\n",
    "Example 1:\n",
    "\n",
    "![Image Text](./IMG/p61.png \"p61\")\n",
    "```\n",
    "Input: root = [1,2,3,4,5,null,6,7,null,null,null,null,8]\n",
    "Output: 15\n",
    "```\n",
    "Example 2:\n",
    "```\n",
    "Input: root = [6,7,8,2,7,1,3,9,null,1,4,null,null,null,5]\n",
    "Output: 19\n",
    "```\n",
    "Constraints:\n",
    "```\n",
    "The number of nodes in the tree is in the range [1, 104].\n",
    "1 <= Node.val <= 100\n",
    "```"
   ]
  },
  {
   "cell_type": "code",
   "execution_count": 1,
   "id": "030b54e7",
   "metadata": {},
   "outputs": [],
   "source": [
    "# Definition for a binary tree node.\n",
    "class TreeNode:\n",
    "    def __init__(self, val=0, left=None, right=None):\n",
    "        self.val = val\n",
    "        self.left = left\n",
    "        self.right = right\n",
    "\n",
    "# My inefficient solution!\n",
    "def deepestLeavesSum(self, root: TreeNode) -> int:\n",
    "\n",
    "    l_val = []\n",
    "    l_height = []\n",
    "    def tree_traverse(node, count=0):\n",
    "        count += 1\n",
    "        l_val.append(node.val)\n",
    "        l_height.append(count)\n",
    "        if node.left: tree_traverse(node.left, count)\n",
    "        if node.right: tree_traverse(node.right, count)\n",
    "\n",
    "    tree_traverse(root)       \n",
    "\n",
    "\n",
    "    return sum(l_val[i] for i, val in enumerate(l_height) if val == max(l_height))"
   ]
  },
  {
   "cell_type": "code",
   "execution_count": 2,
   "id": "c3ee542e",
   "metadata": {},
   "outputs": [],
   "source": [
    "# best solution\n",
    "\n",
    "def deepestLeavesSum(self, root: TreeNode) -> int:\n",
    "    if root is None:\n",
    "        return 0\n",
    "    level_nodes = [root]\n",
    "    tmp_sum = 0\n",
    "    while level_nodes:\n",
    "        tmp_nodes = []\n",
    "        tmp_sum = 0\n",
    "        for node in level_nodes:\n",
    "            tmp_sum += node.val\n",
    "            if node.left is not None:\n",
    "                tmp_nodes.append(node.left)\n",
    "            if node.right is not None:\n",
    "                tmp_nodes.append(node.right)\n",
    "        level_nodes = tmp_nodes\n",
    "    return tmp_sum"
   ]
  },
  {
   "cell_type": "markdown",
   "id": "5c9990a2",
   "metadata": {},
   "source": [
    "### Visualization\n",
    "\n",
    "![Image Text](./IMG/p62.png \"p62\")"
   ]
  }
 ],
 "metadata": {
  "kernelspec": {
   "display_name": "Python 3",
   "language": "python",
   "name": "python3"
  },
  "language_info": {
   "codemirror_mode": {
    "name": "ipython",
    "version": 3
   },
   "file_extension": ".py",
   "mimetype": "text/x-python",
   "name": "python",
   "nbconvert_exporter": "python",
   "pygments_lexer": "ipython3",
   "version": "3.8.9"
  }
 },
 "nbformat": 4,
 "nbformat_minor": 5
}
