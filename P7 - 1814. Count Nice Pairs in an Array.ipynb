{
 "cells": [
  {
   "cell_type": "markdown",
   "id": "42f4c833",
   "metadata": {},
   "source": [
    "You are given an array nums that consists of non-negative integers. Let us define rev(x) as the reverse of the non-negative integer x. For example, rev(123) = 321, and rev(120) = 21. A pair of indices (i, j) is nice if it satisfies all of the following conditions:\n",
    "\n",
    "0 <= i < j < nums.length\n",
    "nums[i] + rev(nums[j]) == nums[j] + rev(nums[i])\n",
    "Return the number of nice pairs of indices. Since that number can be too large, return it modulo 109 + 7.\n",
    "\n",
    " \n",
    "\n",
    "Example 1:\n",
    "```\n",
    "Input: nums = [42,11,1,97]\n",
    "Output: 2\n",
    "Explanation: The two pairs are:\n",
    " - (0,3) : 42 + rev(97) = 42 + 79 = 121, 97 + rev(42) = 97 + 24 = 121.\n",
    " - (1,2) : 11 + rev(1) = 11 + 1 = 12, 1 + rev(11) = 1 + 11 = 12.\n",
    "```\n",
    "Example 2:\n",
    "```\n",
    "Input: nums = [13,10,35,24,76]\n",
    "Output: 4\n",
    "```\n",
    "\n",
    "Constraints:\n",
    "```\n",
    "1 <= nums.length <= 105\n",
    "0 <= nums[i] <= 109\n",
    "```"
   ]
  },
  {
   "cell_type": "code",
   "execution_count": 1,
   "id": "86781170",
   "metadata": {},
   "outputs": [],
   "source": [
    "# solution\n",
    "from typing import List\n",
    "from collections import Counter\n",
    "\n",
    "class Solution:\n",
    "    def rev(self, num: int) -> int: return int(str(num)[::-1])\n",
    "    \n",
    "    def nc2(self, n: int) -> int:\n",
    "        return int((n *( n - 1) ) / 2)\n",
    "    \n",
    "    def countNicePairs(self, nums: List[int]) -> int:  \n",
    "        return sum(map(lambda k: self.nc2(k), Counter(map(lambda n: n - self.rev(n), nums)).values()))  % (10**9 + 7)"
   ]
  },
  {
   "cell_type": "code",
   "execution_count": 2,
   "id": "3a52f65e",
   "metadata": {},
   "outputs": [],
   "source": [
    "# samething as above\n",
    "class Solution:\n",
    "    def countNicePairs(self, nums: List[int]) -> int:  \n",
    "        count = 0\n",
    "        for i in range(len(nums)):\n",
    "            for j in range(i + 1, len(nums)):\n",
    "                if nums[i] + self.rev(nums[j]) == nums[j] + self.rev(nums[i]): count += 1\n",
    "        return count % (10**9 + 7)"
   ]
  },
  {
   "cell_type": "markdown",
   "id": "7940855b",
   "metadata": {},
   "source": [
    "### Logic\n",
    "\n",
    "given condition:\n",
    "```\n",
    "1. 0 <= i < j < nums.length\n",
    "\n",
    "2. nums.length nums[i] + rev(nums[j]) == nums[j] + rev(nums[i])\n",
    "```\n",
    "2nd condition can  be written as (general maths)\n",
    "```\n",
    "nums.length nums[i] - rev(nums[i]) == nums[j] - rev(nums[j])\n",
    "```\n",
    "By doing this we no longer need 2 for loops to validate the given conditions.  \n",
    "Our job becomes easy and less repitative\n",
    "\n",
    "![img](./IMG/p71.png \"p71\")"
   ]
  }
 ],
 "metadata": {
  "kernelspec": {
   "display_name": "Python 3",
   "language": "python",
   "name": "python3"
  },
  "language_info": {
   "codemirror_mode": {
    "name": "ipython",
    "version": 3
   },
   "file_extension": ".py",
   "mimetype": "text/x-python",
   "name": "python",
   "nbconvert_exporter": "python",
   "pygments_lexer": "ipython3",
   "version": "3.8.9"
  }
 },
 "nbformat": 4,
 "nbformat_minor": 5
}
