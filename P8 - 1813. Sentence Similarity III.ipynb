{
 "cells": [
  {
   "cell_type": "markdown",
   "id": "143e1a1a",
   "metadata": {},
   "source": [
    "A sentence is a list of words that are separated by a single space with no leading or trailing spaces. For example, \"Hello World\", \"HELLO\", \"hello world hello world\" are all sentences. Words consist of only uppercase and lowercase English letters.\n",
    "\n",
    "Two sentences sentence1 and sentence2 are similar if it is possible to insert an arbitrary sentence (possibly empty) inside one of these sentences such that the two sentences become equal. For example, sentence1 = \"Hello my name is Jane\" and sentence2 = \"Hello Jane\" can be made equal by inserting \"my name is\" between \"Hello\" and \"Jane\" in sentence2.\n",
    "\n",
    "Given two sentences sentence1 and sentence2, return true if sentence1 and sentence2 are similar. Otherwise, return false.\n",
    "\n",
    " \n",
    "\n",
    "Example 1:\n",
    "```\n",
    "Input: sentence1 = \"My name is Haley\", sentence2 = \"My Haley\"\n",
    "Output: true\n",
    "Explanation: sentence2 can be turned to sentence1 by inserting \"name is\" between \"My\" and \"Haley\".\n",
    "```\n",
    "Example 2:\n",
    "```\n",
    "Input: sentence1 = \"of\", sentence2 = \"A lot of words\"\n",
    "Output: false\n",
    "Explanation: No single sentence can be inserted inside one of the sentences to make it equal to the other.\n",
    "```\n",
    "Example 3:\n",
    "```\n",
    "Input: sentence1 = \"Eating right now\", sentence2 = \"Eating\"\n",
    "Output: true\n",
    "Explanation: sentence2 can be turned to sentence1 by inserting \"right now\" at the end of the sentence.\n",
    "```\n",
    "Example 4:\n",
    "```\n",
    "Input: sentence1 = \"Luky\", sentence2 = \"Lucccky\"\n",
    "Output: false\n",
    "```\n",
    "\n",
    "Constraints:\n",
    "```\n",
    "1 <= sentence1.length, sentence2.length <= 100\n",
    "sentence1 and sentence2 consist of lowercase and uppercase English letters and spaces.\n",
    "The words in sentence1 and sentence2 are separated by a single space.\n",
    "```"
   ]
  },
  {
   "cell_type": "code",
   "execution_count": 1,
   "id": "868dd77c",
   "metadata": {},
   "outputs": [
    {
     "name": "stdout",
     "output_type": "stream",
     "text": [
      "4 2 0 0\n",
      "['A', 'lot', 'of', 'words'] ['of', 'words']\n",
      "0\n",
      "2\n"
     ]
    },
    {
     "data": {
      "text/plain": [
       "True"
      ]
     },
     "execution_count": 1,
     "metadata": {},
     "output_type": "execute_result"
    }
   ],
   "source": [
    "# best solution\n",
    "\n",
    "# sentence1 = \"this sentence is supposed to be big\"\n",
    "# sentence2 = \"this supposed to be big\"\n",
    "\n",
    "sentence1 = \"of words\"\n",
    "sentence2 = \"A lot of words\"\n",
    "\n",
    "def areSentencesSimilar(sentence1: str, sentence2: str) -> bool:\n",
    "    group1 = sentence1.split()\n",
    "    group2 = sentence2.split()\n",
    "    if len(group1) < len(group2):\n",
    "        return areSentencesSimilar(sentence2, sentence1)\n",
    "    n1 = len(group1)\n",
    "    n2 = len(group2)\n",
    "    i = 0\n",
    "    j = 0\n",
    "    print(n1, n2, i, j)\n",
    "    print(group1, group2)\n",
    "    while i < n2 and (group1[j] == group2[i]):\n",
    "        print(group1[j], group2[i])\n",
    "        i += 1\n",
    "        j += 1\n",
    "    j = n1 - 1\n",
    "    print(i)\n",
    "    k = n2 - 1\n",
    "    l = i\n",
    "    while k >= l and (group1[j] == group2[k]):\n",
    "        i += 1\n",
    "        j -= 1\n",
    "        k -= 1\n",
    "    print(i)\n",
    "    return i == n2\n",
    "areSentencesSimilar(sentence1, sentence2)"
   ]
  },
  {
   "cell_type": "markdown",
   "id": "a60c137c",
   "metadata": {},
   "source": [
    "### Logic\n",
    "\n",
    "![Image](./IMG/p81.png \"p81\")\n",
    "\n",
    "### Visualization\n",
    "\n",
    "![Image](./IMG/p82.png \"p82\")"
   ]
  }
 ],
 "metadata": {
  "kernelspec": {
   "display_name": "Python 3",
   "language": "python",
   "name": "python3"
  },
  "language_info": {
   "codemirror_mode": {
    "name": "ipython",
    "version": 3
   },
   "file_extension": ".py",
   "mimetype": "text/x-python",
   "name": "python",
   "nbconvert_exporter": "python",
   "pygments_lexer": "ipython3",
   "version": "3.8.9"
  }
 },
 "nbformat": 4,
 "nbformat_minor": 5
}
